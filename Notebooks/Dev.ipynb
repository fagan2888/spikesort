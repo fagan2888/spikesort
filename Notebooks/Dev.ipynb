{
 "metadata": {
  "name": "Dev"
 },
 "nbformat": 3,
 "nbformat_minor": 0,
 "worksheets": [
  {
   "cells": [
    {
     "cell_type": "code",
     "collapsed": false,
     "input": [
      "%pylab qt"
     ],
     "language": "python",
     "metadata": {},
     "outputs": [
      {
       "output_type": "stream",
       "stream": "stdout",
       "text": [
        "\n",
        "Welcome to pylab, a matplotlib-based Python environment [backend: Qt4Agg].\n",
        "For more information, type 'help(pylab)'.\n"
       ]
      }
     ],
     "prompt_number": 2
    },
    {
     "cell_type": "code",
     "collapsed": false,
     "input": [
      "import spikesort as ss"
     ],
     "language": "python",
     "metadata": {},
     "outputs": [],
     "prompt_number": 4
    },
    {
     "cell_type": "code",
     "collapsed": false,
     "input": [
      "import cPickle as pkl\n",
      "with open('/Users/mat/Dropbox/Data/SL2B_130524.spk','r') as f:\n",
      "    spikes = pkl.load(f)"
     ],
     "language": "python",
     "metadata": {},
     "outputs": [],
     "prompt_number": 777
    },
    {
     "cell_type": "code",
     "collapsed": false,
     "input": [
      "reload(ss.plots)\n",
      "reload(ss.cluster)"
     ],
     "language": "python",
     "metadata": {},
     "outputs": [
      {
       "metadata": {},
       "output_type": "pyout",
       "prompt_number": 856,
       "text": [
        "<module 'spikesort.cluster' from '/Users/mat/Dropbox/Code/spikesort/cluster.pyc'>"
       ]
      }
     ],
     "prompt_number": 856
    },
    {
     "cell_type": "code",
     "collapsed": false,
     "input": [
      "sorter = ss.cluster.Sorter()"
     ],
     "language": "python",
     "metadata": {},
     "outputs": [],
     "prompt_number": 857
    },
    {
     "cell_type": "code",
     "collapsed": false,
     "input": [
      "X = ss.plots.trim_data(spikes, trim=0.33) \n",
      "sorter.sort(X)"
     ],
     "language": "python",
     "metadata": {},
     "outputs": [],
     "prompt_number": 858
    },
    {
     "cell_type": "code",
     "collapsed": false,
     "input": [
      "sorter.spikes(limit=25)\n",
      "sorter.scatter()\n",
      "sorter.autocorrs()\n",
      "sorter.scatter3D()"
     ],
     "language": "python",
     "metadata": {},
     "outputs": [
      {
       "metadata": {},
       "output_type": "pyout",
       "prompt_number": 859,
       "text": [
        "{'dims': 10, 'K': 9, 'cov_type': 'tied', 'decomp': 'pca'}"
       ]
      }
     ],
     "prompt_number": 859
    },
    {
     "cell_type": "code",
     "collapsed": false,
     "input": [],
     "language": "python",
     "metadata": {},
     "outputs": [
      {
       "metadata": {},
       "output_type": "pyout",
       "prompt_number": 860,
       "text": [
        "<matplotlib.axes.AxesSubplot at 0x1897d8d10>"
       ]
      }
     ],
     "prompt_number": 860
    },
    {
     "cell_type": "code",
     "collapsed": false,
     "input": [
      "cls.sizes()"
     ],
     "language": "python",
     "metadata": {},
     "outputs": [
      {
       "metadata": {},
       "output_type": "pyout",
       "prompt_number": 825,
       "text": [
        "{0: 370, 1: 3036, 2: 227, 3: 31, 4: 37, 5: 50, 6: 157, 7: 195, 8: 3262}"
       ]
      }
     ],
     "prompt_number": 825
    }
   ],
   "metadata": {}
  }
 ]
}